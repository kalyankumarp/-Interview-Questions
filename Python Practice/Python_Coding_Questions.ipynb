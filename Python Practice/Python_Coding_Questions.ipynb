{
 "cells": [
  {
   "cell_type": "markdown",
   "metadata": {},
   "source": [
    "## LinkedList Questions\n"
   ]
  },
  {
   "cell_type": "markdown",
   "metadata": {},
   "source": [
    "### Begin"
   ]
  },
  {
   "cell_type": "code",
   "execution_count": 14,
   "metadata": {},
   "outputs": [],
   "source": [
    "class Node:\n",
    "    # constructor to initialize the Node class\n",
    "    def __init__(self, data):\n",
    "        self.data = data\n",
    "        self.next = None\n"
   ]
  },
  {
   "cell_type": "code",
   "execution_count": 15,
   "metadata": {},
   "outputs": [],
   "source": [
    "class LinkedList:\n",
    "    # constructor to initialize the LinkedList class\n",
    "    def __init__(self):\n",
    "        self.head = None # this is just for the initial node\n",
    "\n",
    "    def push(self, data):\n",
    "        new_node = Node(data)\n",
    "        new_node.next = self.head\n",
    "        self.head = new_node\n",
    "\n",
    "    def print_llist(self):\n",
    "        temp = self.head\n",
    "        while temp:\n",
    "            print(temp.data)\n",
    "            temp = temp.next\n"
   ]
  },
  {
   "cell_type": "code",
   "execution_count": 17,
   "metadata": {},
   "outputs": [
    {
     "name": "stdout",
     "output_type": "stream",
     "text": [
      "0\n",
      "1\n",
      "10\n"
     ]
    }
   ],
   "source": [
    "linked_list = LinkedList()\n",
    "linked_list.push(10)\n",
    "linked_list.push(1)\n",
    "linked_list.push(0)\n",
    "linked_list.print_llist()"
   ]
  },
  {
   "cell_type": "markdown",
   "metadata": {},
   "source": [
    "#### adding function to reverse the linkedlist"
   ]
  },
  {
   "cell_type": "code",
   "execution_count": 19,
   "metadata": {},
   "outputs": [],
   "source": [
    "class LinkedList:\n",
    "    # constructor to initialize the LinkedList class\n",
    "    def __init__(self):\n",
    "        self.head = None\n",
    "\n",
    "    def push(self, data):\n",
    "        new_node = Node(data)\n",
    "        new_node.next = self.head\n",
    "        self.head = new_node\n",
    "\n",
    "\n",
    "    def print_llist(self):\n",
    "        temp = self.head\n",
    "        while temp:\n",
    "            print(temp.data)\n",
    "            temp = temp.next\n",
    "\n",
    "    def reverse_llist(self):\n",
    "        next = None\n",
    "        current = self.head\n",
    "        prev = None\n",
    "\n",
    "        while current:\n",
    "            next = current.next\n",
    "            current.next = prev\n",
    "            prev = current\n",
    "            current = next\n",
    "        self.head = prev\n"
   ]
  },
  {
   "cell_type": "code",
   "execution_count": 20,
   "metadata": {},
   "outputs": [
    {
     "name": "stdout",
     "output_type": "stream",
     "text": [
      "0\n",
      "1\n",
      "10\n",
      "10\n",
      "1\n",
      "0\n"
     ]
    }
   ],
   "source": [
    "linked_list = LinkedList()\n",
    "linked_list.push(10)\n",
    "linked_list.push(1)\n",
    "linked_list.push(0)\n",
    "linked_list.print_llist()\n",
    "linked_list.reverse_llist()\n",
    "linked_list.print_llist()"
   ]
  },
  {
   "cell_type": "markdown",
   "metadata": {},
   "source": [
    "### iterative approach\n",
    "### time complexity is O(n)\n",
    "### Auxiliary space is O(1) this is excluding the space need to store the input data\n",
    "##### Auxiliary Space is the extra space or temporary space used by an algorithm. Space Complexity of an algorithm is the total space taken by the algorithm with respect to the input size. Space complexity includes both Auxiliary space and space used by input."
   ]
  },
  {
   "cell_type": "markdown",
   "metadata": {},
   "source": [
    "### End"
   ]
  },
  {
   "cell_type": "code",
   "execution_count": null,
   "metadata": {},
   "outputs": [],
   "source": []
  },
  {
   "cell_type": "code",
   "execution_count": null,
   "metadata": {},
   "outputs": [],
   "source": []
  },
  {
   "cell_type": "markdown",
   "metadata": {},
   "source": [
    "## Finding length of longest SUBSTRING of a string without duplicates"
   ]
  },
  {
   "cell_type": "markdown",
   "metadata": {},
   "source": [
    "### Begin"
   ]
  },
  {
   "cell_type": "code",
   "execution_count": 70,
   "metadata": {},
   "outputs": [],
   "source": [
    "s = 'pwwke'"
   ]
  },
  {
   "cell_type": "code",
   "execution_count": 71,
   "metadata": {},
   "outputs": [],
   "source": [
    "def sub_string(s):\n",
    "    if len(s) in [0, 1]:\n",
    "        return s\n",
    "\n",
    "    else:\n",
    "        temp = ''\n",
    "        for i in s:\n",
    "            if i not in temp:\n",
    "                temp += i\n",
    "\n",
    "            else:\n",
    "                temp = i\n",
    "            \n",
    "\n",
    "    return temp\n",
    "\n",
    "            \n",
    "\n"
   ]
  },
  {
   "cell_type": "code",
   "execution_count": 72,
   "metadata": {},
   "outputs": [
    {
     "data": {
      "text/plain": [
       "'wke'"
      ]
     },
     "execution_count": 72,
     "metadata": {},
     "output_type": "execute_result"
    }
   ],
   "source": [
    "sub_string(s)"
   ]
  },
  {
   "cell_type": "code",
   "execution_count": 73,
   "metadata": {},
   "outputs": [
    {
     "data": {
      "text/plain": [
       "'k'"
      ]
     },
     "execution_count": 73,
     "metadata": {},
     "output_type": "execute_result"
    }
   ],
   "source": [
    "sub_string('kkk')"
   ]
  },
  {
   "cell_type": "code",
   "execution_count": 74,
   "metadata": {},
   "outputs": [
    {
     "data": {
      "text/plain": [
       "'e'"
      ]
     },
     "execution_count": 74,
     "metadata": {},
     "output_type": "execute_result"
    }
   ],
   "source": [
    "sub_string('pwkeeee')"
   ]
  },
  {
   "cell_type": "markdown",
   "metadata": {},
   "source": [
    "### the above code did not work"
   ]
  },
  {
   "cell_type": "markdown",
   "metadata": {},
   "source": [
    "### Trying sliding window approach"
   ]
  },
  {
   "cell_type": "code",
   "execution_count": 75,
   "metadata": {},
   "outputs": [],
   "source": [
    "## Lets use two pointers to represent start and end of a window\n",
    "## slide the window and update the start pointer if the character is already seen\n",
    "## if the character is already present, update the start to the position after the last occurence\n",
    "## else start will not get updated\n",
    "\n",
    "\n",
    "## need two variables start and end\n",
    "## a dictioinary to store the occurrences of characters\n",
    "## a variable max_len to keep track of longest substring\n",
    "\n",
    "def len_longest_substring(s):\n",
    "    start = 0\n",
    "    occr = {}\n",
    "\n",
    "    max_len = 0\n",
    "\n",
    "    for end in range(len(s)):\n",
    "        if s[end] in occr:\n",
    "            start = max(start, occr[s[end]] + 1) # this max helps us when the current character \n",
    "                                                # had already occurred before the previous start\n",
    "\n",
    "        occr[s[end]] = end\n",
    "        max_len = max(max_len, end - start + 1)\n",
    "\n",
    "    return max_len, occr, \n",
    "        "
   ]
  },
  {
   "cell_type": "code",
   "execution_count": 76,
   "metadata": {},
   "outputs": [
    {
     "data": {
      "text/plain": [
       "(1, {'k': 2})"
      ]
     },
     "execution_count": 76,
     "metadata": {},
     "output_type": "execute_result"
    }
   ],
   "source": [
    "len_longest_substring('kkk')"
   ]
  },
  {
   "cell_type": "code",
   "execution_count": 77,
   "metadata": {},
   "outputs": [
    {
     "data": {
      "text/plain": [
       "(5, {'e': 8, 'k': 1, 'a': 6, 'l': 3, 'y': 5, 'n': 7})"
      ]
     },
     "execution_count": 77,
     "metadata": {},
     "output_type": "execute_result"
    }
   ],
   "source": [
    "len_longest_substring('ekalyyane')"
   ]
  },
  {
   "cell_type": "markdown",
   "metadata": {},
   "source": [
    "### time complexity = O(n)\n",
    "### space complexity = O(len(string))"
   ]
  },
  {
   "cell_type": "markdown",
   "metadata": {},
   "source": [
    "## if we want the longest sub_string without duplicates"
   ]
  },
  {
   "cell_type": "code",
   "execution_count": 97,
   "metadata": {},
   "outputs": [],
   "source": [
    "## Lets use two pointers to represent start and end of a window\n",
    "## slide the window and update the start pointer if the character is already seen\n",
    "## if the character is already present, update the start to the position after the last occurence\n",
    "## else start will not get updated\n",
    "## Need to store the start and end of the longest substring as well\n",
    "## we can use max_len - prev_max_len condition to populate the above \n",
    "\n",
    "\n",
    "## need two variables start and end\n",
    "## a dictioinary to store the occurrences of characters\n",
    "## a variable max_len to keep track of longest substring\n",
    "\n",
    "def longest_substring(s):\n",
    "\n",
    "    if len(s) == 0:\n",
    "        return s\n",
    "\n",
    "    start = 0\n",
    "    occr = {}\n",
    "\n",
    "    max_len = 0\n",
    "    longest_substrings = []\n",
    "\n",
    "    for end in range(len(s)):\n",
    "        if s[end] in occr:\n",
    "            start = max(start, occr[s[end]] + 1) # this max helps us when the current character \n",
    "                                                # had already occurred before the previous start\n",
    "\n",
    "        occr[s[end]] = end\n",
    "        if (end - start + 1) >= max_len:\n",
    "            print(start, end)\n",
    "            max_len = end - start + 1\n",
    "            if len(occr) > 1:\n",
    "                longest_substrings.append(s[start:end+1])\n",
    "\n",
    "    if len(occr) == 1:\n",
    "        longest_substrings.append(s[0])\n",
    "    return max_len, occr, longest_substrings"
   ]
  },
  {
   "cell_type": "markdown",
   "metadata": {},
   "source": [
    "###"
   ]
  },
  {
   "cell_type": "code",
   "execution_count": 99,
   "metadata": {},
   "outputs": [
    {
     "name": "stdout",
     "output_type": "stream",
     "text": [
      "0 0\n",
      "1 1\n",
      "1 2\n",
      "2 3\n"
     ]
    },
    {
     "data": {
      "text/plain": [
       "(2, {'l': 3, 'k': 2}, ['lk', 'kl'])"
      ]
     },
     "execution_count": 99,
     "metadata": {},
     "output_type": "execute_result"
    }
   ],
   "source": [
    "longest_substring('llkl')"
   ]
  },
  {
   "cell_type": "code",
   "execution_count": 100,
   "metadata": {},
   "outputs": [
    {
     "data": {
      "text/plain": [
       "''"
      ]
     },
     "execution_count": 100,
     "metadata": {},
     "output_type": "execute_result"
    }
   ],
   "source": [
    "longest_substring('')"
   ]
  },
  {
   "cell_type": "markdown",
   "metadata": {},
   "source": [
    "## Binary tree\n",
    "### creating a binary tree"
   ]
  },
  {
   "cell_type": "code",
   "execution_count": 101,
   "metadata": {},
   "outputs": [],
   "source": [
    "# lets create a node\n",
    "class Node:\n",
    "    def __init__(self, data):\n",
    "        self.data = data\n",
    "        self.left = None\n",
    "        self.right = None\n",
    "        "
   ]
  },
  {
   "cell_type": "code",
   "execution_count": null,
   "metadata": {},
   "outputs": [],
   "source": [
    "node1 = Node(1)\n",
    "node2 = Node(2)\n",
    "node3 = Node(3)\n",
    "\n",
    "node1.left = node2\n",
    "node1.right = node3"
   ]
  },
  {
   "cell_type": "code",
   "execution_count": null,
   "metadata": {},
   "outputs": [],
   "source": [
    "class btree:\n",
    "    def __init__(self):\n",
    "        self.root = None\n",
    "\n",
    "    def add_node(self, data):\n",
    "        new_node = Node(1)"
   ]
  },
  {
   "cell_type": "code",
   "execution_count": 102,
   "metadata": {},
   "outputs": [],
   "source": [
    "\n",
    "\n",
    "# simple binary tree\n",
    "# in this implementation, a node is inserted between an existing node and the root\n",
    "\n",
    "\n",
    "class BinaryTree():\n",
    "\n",
    "    def __init__(self,rootid):\n",
    "      self.left = None\n",
    "      self.right = None\n",
    "      self.rootid = rootid\n",
    "\n",
    "    def getLeftChild(self):\n",
    "        return self.left\n",
    "    def getRightChild(self):\n",
    "        return self.right\n",
    "    def setNodeValue(self,value):\n",
    "        self.rootid = value\n",
    "    def getNodeValue(self):\n",
    "        return self.rootid\n",
    "\n",
    "    def insertRight(self,newNode):\n",
    "        if self.right == None:\n",
    "            self.right = BinaryTree(newNode)\n",
    "        else:\n",
    "            tree = BinaryTree(newNode)\n",
    "            tree.right = self.right\n",
    "            self.right = tree\n",
    "        \n",
    "    def insertLeft(self,newNode):\n",
    "        if self.left == None:\n",
    "            self.left = BinaryTree(newNode)\n",
    "        else:\n",
    "            tree = BinaryTree(newNode)\n",
    "            tree.left = self.left\n",
    "            self.left = tree\n",
    "\n",
    "\n",
    "def printTree(tree):\n",
    "        if tree != None:\n",
    "            printTree(tree.getLeftChild())\n",
    "            print(tree.getNodeValue())\n",
    "            printTree(tree.getRightChild())\n",
    "            \n",
    "\n",
    "\n",
    "# test tree\n",
    "\n",
    "def testTree():\n",
    "    myTree = BinaryTree(\"Maud\")\n",
    "    myTree.insertLeft(\"Bob\")\n",
    "    myTree.insertRight(\"Tony\")\n",
    "    myTree.insertRight(\"Steven\")\n",
    "    printTree(myTree)\n",
    "        \n"
   ]
  },
  {
   "cell_type": "code",
   "execution_count": 103,
   "metadata": {},
   "outputs": [
    {
     "name": "stdout",
     "output_type": "stream",
     "text": [
      "Bob\n",
      "Maud\n",
      "Steven\n",
      "Tony\n"
     ]
    }
   ],
   "source": [
    "testTree()"
   ]
  },
  {
   "cell_type": "code",
   "execution_count": 126,
   "metadata": {},
   "outputs": [],
   "source": [
    "\"\"\"\n",
    "Python program to print all path from root to\n",
    "leaf in a binary tree\n",
    "\"\"\"\n",
    " \n",
    "# binary tree node contains data field ,\n",
    "# left and right pointer\n",
    "class Node:\n",
    "     \n",
    "    # A binary tree node has data,\n",
    "    # pointer to left child and a\n",
    "    # pointer to right child\n",
    "    def __init__(self, data):\n",
    "        self.data = data\n",
    "        self.right = None\n",
    "        self.left = None\n",
    " \n",
    "def printRoute(stack, root):\n",
    "    if root == None:\n",
    "        return\n",
    "         \n",
    "    # append this node to the path array\n",
    "    stack.append(root.data)\n",
    "    if(root.left == None and root.right == None):\n",
    "         \n",
    "        # print out all of its\n",
    "        # root - to - leaf\n",
    "        print(stack)\n",
    "         \n",
    "    # otherwise try both subtrees\n",
    "    printRoute(stack, root.left)\n",
    "    printRoute(stack, root.right)\n",
    "    stack.pop() # to traverse back to the previous node when the current node is a leaf node"
   ]
  },
  {
   "cell_type": "code",
   "execution_count": 127,
   "metadata": {},
   "outputs": [
    {
     "name": "stdout",
     "output_type": "stream",
     "text": [
      "[10, 8, 3]\n",
      "[10, 8, 5]\n",
      "[10, 2, 2]\n"
     ]
    }
   ],
   "source": [
    "# Driver Code\n",
    "root = Node(10)\n",
    "root.left = Node(8)\n",
    "root.right = Node(2)\n",
    "root.left.left = Node(3)\n",
    "root.left.right = Node(5)\n",
    "root.right.left = Node(2)\n",
    "printRoute([], root)"
   ]
  },
  {
   "cell_type": "code",
   "execution_count": null,
   "metadata": {},
   "outputs": [],
   "source": []
  }
 ],
 "metadata": {
  "kernelspec": {
   "display_name": "Python 3.10.5 64-bit",
   "language": "python",
   "name": "python3"
  },
  "language_info": {
   "codemirror_mode": {
    "name": "ipython",
    "version": 3
   },
   "file_extension": ".py",
   "mimetype": "text/x-python",
   "name": "python",
   "nbconvert_exporter": "python",
   "pygments_lexer": "ipython3",
   "version": "3.10.5"
  },
  "orig_nbformat": 4,
  "vscode": {
   "interpreter": {
    "hash": "1d7de9ad1312f8c08f26d1fd09c6819e1403ea70d9510a55ab052e31adcbfe40"
   }
  }
 },
 "nbformat": 4,
 "nbformat_minor": 2
}
